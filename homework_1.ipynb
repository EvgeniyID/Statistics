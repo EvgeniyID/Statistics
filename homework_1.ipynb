{
 "cells": [
  {
   "cell_type": "markdown",
   "id": "046cf8bc",
   "metadata": {},
   "source": [
    "1. Из колоды в 52 карты извлекаются случайным образом 4 карты. a) Найти вероятность того, что все карты – крести. б) Найти вероятность, что среди 4-х карт окажется хотя бы один туз."
   ]
  },
  {
   "cell_type": "code",
   "execution_count": 1,
   "id": "d8899d45",
   "metadata": {},
   "outputs": [],
   "source": [
    "from math import factorial"
   ]
  },
  {
   "cell_type": "code",
   "execution_count": 3,
   "id": "a229a7ed",
   "metadata": {},
   "outputs": [],
   "source": [
    "def combinations(n, k):\n",
    "    return int(factorial(n) / (factorial(k) * factorial(n - k)))"
   ]
  },
  {
   "cell_type": "code",
   "execution_count": 4,
   "id": "c78ef246",
   "metadata": {},
   "outputs": [],
   "source": [
    "def arrangements(n, k):\n",
    "    return int(factorial(n) / factorial(n - k))"
   ]
  },
  {
   "cell_type": "code",
   "execution_count": 5,
   "id": "8beccedb",
   "metadata": {},
   "outputs": [],
   "source": [
    "def permutations(n):\n",
    "    return int(factorial(n))"
   ]
  },
  {
   "cell_type": "markdown",
   "id": "da6e8524",
   "metadata": {},
   "source": [
    "a) Найти вероятность того, что все карты – крести"
   ]
  },
  {
   "cell_type": "code",
   "execution_count": 7,
   "id": "1d11f602",
   "metadata": {},
   "outputs": [
    {
     "name": "stdout",
     "output_type": "stream",
     "text": [
      "Вероятность того, что все карты - крести = 0.0026\n"
     ]
    }
   ],
   "source": [
    "n = combinations(52, 4) # сочетаний 4 карт из 52\n",
    "m = combinations(13, 4) # сочетаний 4 карт из 13 (крести)\n",
    "print(f'Вероятность того, что все карты - крести = {m/n :.4f}')"
   ]
  },
  {
   "cell_type": "markdown",
   "id": "817f96cc",
   "metadata": {},
   "source": [
    "б) Найти вероятность, что среди 4-х карт окажется хотя бы один туз."
   ]
  },
  {
   "cell_type": "code",
   "execution_count": 22,
   "id": "f6bf891a",
   "metadata": {},
   "outputs": [
    {
     "name": "stdout",
     "output_type": "stream",
     "text": [
      "Вероятность того, что из 4 вытащенных из колоды хотя бы один туз = 0.281\n"
     ]
    }
   ],
   "source": [
    "P1 = combinations(4, 1) * combinations(48, 3) / combinations(52, 4) # среди выбранных один туз\n",
    "P2 = combinations(4, 2) * combinations(48, 2) / combinations(52, 4) # среди выбранных два туза\n",
    "P3 = combinations(4, 3) * combinations(48, 1) / combinations(52, 4) # среди выбранных три туза\n",
    "P4 = 1 / combinations(52, 4) # среди выбранных четыре туза \n",
    "P = P1 + P2 + P3 + P4\n",
    "\n",
    "print(f'Вероятность того, что из 4 вытащенных из колоды хотя бы один туз = {P :.3f}')"
   ]
  },
  {
   "cell_type": "markdown",
   "id": "96978046",
   "metadata": {},
   "source": [
    "2. На входной двери подъезда установлен кодовый замок, содержащий десять кнопок с цифрами от 0 до 9. Код содержит три цифры, которые нужно нажать одновременно. Какова вероятность того, что человек, не знающий код, откроет дверь с первой попытки?"
   ]
  },
  {
   "cell_type": "code",
   "execution_count": 23,
   "id": "bf40c54f",
   "metadata": {},
   "outputs": [
    {
     "name": "stdout",
     "output_type": "stream",
     "text": [
      "Вероятность того, что дверь открыта с первой попытки = 0.0083\n"
     ]
    }
   ],
   "source": [
    "n = combinations(10, 3) # размещений 3 из 10\n",
    "m = 1\n",
    "print(f'Вероятность того, что дверь открыта с первой попытки = {m/n :.4f}')"
   ]
  },
  {
   "cell_type": "markdown",
   "id": "68d54141",
   "metadata": {},
   "source": [
    "3. В ящике имеется 15 деталей, из которых 9 окрашены. Рабочий случайным образом извлекает 3 детали. Какова вероятность того, что все извлеченные детали окрашены?"
   ]
  },
  {
   "cell_type": "code",
   "execution_count": 24,
   "id": "9270d786",
   "metadata": {},
   "outputs": [
    {
     "name": "stdout",
     "output_type": "stream",
     "text": [
      "Вероятность того, что все извлеченные детали окрашены = 0.185\n"
     ]
    }
   ],
   "source": [
    "n = combinations (15, 3) # сочетания 3 из 15\n",
    "m = combinations (9, 3) # сочетания 3 из 9 (окрашенных)\n",
    "print(f'Вероятность того, что все извлеченные детали окрашены = {m/n :.3f}')"
   ]
  },
  {
   "cell_type": "markdown",
   "id": "064dd052",
   "metadata": {},
   "source": [
    "4. В лотерее 100 билетов. Из них 2 выигрышных. Какова вероятность того, что 2 приобретенных билета окажутся выигрышными?"
   ]
  },
  {
   "cell_type": "code",
   "execution_count": 25,
   "id": "7ad594e0",
   "metadata": {},
   "outputs": [
    {
     "name": "stdout",
     "output_type": "stream",
     "text": [
      "Вероятность того, что оба билета выигрышные = 0.00020\n"
     ]
    }
   ],
   "source": [
    "n = combinations (100, 2) # сочетания 2 из 100\n",
    "m = 1\n",
    "print(f'Вероятность того, что оба билета выигрышные = {m/n :.5f}')"
   ]
  },
  {
   "cell_type": "code",
   "execution_count": null,
   "id": "575d8e82",
   "metadata": {},
   "outputs": [],
   "source": []
  }
 ],
 "metadata": {
  "kernelspec": {
   "display_name": "Python 3 (ipykernel)",
   "language": "python",
   "name": "python3"
  },
  "language_info": {
   "codemirror_mode": {
    "name": "ipython",
    "version": 3
   },
   "file_extension": ".py",
   "mimetype": "text/x-python",
   "name": "python",
   "nbconvert_exporter": "python",
   "pygments_lexer": "ipython3",
   "version": "3.8.12"
  }
 },
 "nbformat": 4,
 "nbformat_minor": 5
}
