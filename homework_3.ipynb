{
 "cells": [
  {
   "cell_type": "markdown",
   "id": "38aa3ed9",
   "metadata": {},
   "source": [
    "1. Даны значения зарплат из выборки выпускников: 100, 80, 75, 77, 89, 33, 45, 25, 65, 17, 30, 24, 57, 55, 70, 75, 65, 84, 90, 150. Посчитать (желательно без использования статистических методов наподобие std, var, mean) среднее арифметическое, среднее квадратичное отклонение, смещенную и несмещенную оценки дисперсий для данной выборки."
   ]
  },
  {
   "cell_type": "code",
   "execution_count": 3,
   "id": "9508a8aa",
   "metadata": {},
   "outputs": [],
   "source": [
    "import numpy as np\n",
    "from math import factorial\n",
    "def combinations(n, k):\n",
    "    return int(factorial(n) / (factorial(k) * factorial(n - k)))"
   ]
  },
  {
   "cell_type": "code",
   "execution_count": 4,
   "id": "b1a71cca",
   "metadata": {},
   "outputs": [],
   "source": [
    "salaries = np.array([100, 80, 75, 77, 89, 33, 45, 25, 65, 17, 30, 24, 57, 55, 70, 75, 65, 84, 90, 150])"
   ]
  },
  {
   "cell_type": "code",
   "execution_count": 5,
   "id": "1c916cad",
   "metadata": {},
   "outputs": [],
   "source": [
    "salaries_mean = salaries.sum() / salaries.size #Cреднее арифметическое"
   ]
  },
  {
   "cell_type": "code",
   "execution_count": 6,
   "id": "deb6a4a9",
   "metadata": {},
   "outputs": [
    {
     "data": {
      "text/plain": [
       "30.823854398825596"
      ]
     },
     "execution_count": 6,
     "metadata": {},
     "output_type": "execute_result"
    }
   ],
   "source": [
    "(np.sum((salaries - salaries_mean)**2) / salaries.size)**0.5 #Cреднее квадратичное отклонение"
   ]
  },
  {
   "cell_type": "code",
   "execution_count": 7,
   "id": "5962300c",
   "metadata": {},
   "outputs": [
    {
     "data": {
      "text/plain": [
       "950.11"
      ]
     },
     "execution_count": 7,
     "metadata": {},
     "output_type": "execute_result"
    }
   ],
   "source": [
    "np.sum((salaries - salaries_mean)**2) / salaries.size #Cмещенная дисперсия"
   ]
  },
  {
   "cell_type": "code",
   "execution_count": 8,
   "id": "4a6574a9",
   "metadata": {},
   "outputs": [
    {
     "data": {
      "text/plain": [
       "1000.1157894736842"
      ]
     },
     "execution_count": 8,
     "metadata": {},
     "output_type": "execute_result"
    }
   ],
   "source": [
    "np.sum((salaries - salaries_mean)**2) / (salaries.size - 1) #Несмещенная дисперсия"
   ]
  },
  {
   "cell_type": "markdown",
   "id": "5353840b",
   "metadata": {},
   "source": [
    "2. В первом ящике находится 8 мячей, из которых 5 - белые. Во втором ящике - 12 мячей, из которых 5 белых. Из первого ящика вытаскивают случайным образом два мяча, из второго - 4. Какова вероятность того, что 3 мяча белые?"
   ]
  },
  {
   "cell_type": "code",
   "execution_count": 9,
   "id": "08e01861",
   "metadata": {},
   "outputs": [
    {
     "name": "stdout",
     "output_type": "stream",
     "text": [
      "Вероятность того, что ровно два мяча белые = 0.343\n"
     ]
    }
   ],
   "source": [
    "P1 = combinations(5, 3)/combinations(8, 3) * combinations(3, 3)/combinations(12, 3)\n",
    "P2 = combinations(3, 3)/combinations(8, 3) * combinations(5, 3)/combinations(12, 3)\n",
    "P3 = combinations(5, 2) * combinations(3, 1)/combinations(8, 3) * combinations(5, 1)* combinations(7, 2)/combinations(12, 3)\n",
    "P4 = combinations(5, 1) * combinations(3, 2)/combinations(8, 3) * combinations(5, 2)* combinations(7, 1)/combinations(12, 3)\n",
    "\n",
    "P = P1 + P2 + P3 + P4\n",
    "print(f'Вероятность того, что ровно два мяча белые = {P :.3f}')"
   ]
  },
  {
   "cell_type": "markdown",
   "id": "60cff925",
   "metadata": {},
   "source": [
    "3. На соревновании по биатлону один из трех спортсменов стреляет и попадает в мишень. Вероятность попадания для первого спортсмена равна 0.9, для второго — 0.8, для третьего — 0.6. Найти вероятность того, что выстрел произведен: a). первым спортсменом б). вторым спортсменом в). третьим спортсменом."
   ]
  },
  {
   "cell_type": "code",
   "execution_count": 10,
   "id": "b6c11231",
   "metadata": {},
   "outputs": [
    {
     "data": {
      "text/plain": [
       "0.7666666666666666"
      ]
     },
     "execution_count": 10,
     "metadata": {},
     "output_type": "execute_result"
    }
   ],
   "source": [
    "A = 1/3 * 0.9 + 1/3 * 0.8 + 1/3 * 0.6\n",
    "A"
   ]
  },
  {
   "cell_type": "code",
   "execution_count": 11,
   "id": "544d4f4c",
   "metadata": {},
   "outputs": [
    {
     "name": "stdout",
     "output_type": "stream",
     "text": [
      "Вероятность того, что выстрел произведен первым спортсменом = 0.391\n"
     ]
    }
   ],
   "source": [
    "print(f'Вероятность того, что выстрел произведен первым спортсменом = {(1/3 * 0.9) / A :.3f}')"
   ]
  },
  {
   "cell_type": "code",
   "execution_count": 12,
   "id": "eb730266",
   "metadata": {},
   "outputs": [
    {
     "name": "stdout",
     "output_type": "stream",
     "text": [
      "Вероятность того, что выстрел произведен первым спортсменом = 0.348\n"
     ]
    }
   ],
   "source": [
    "print(f'Вероятность того, что выстрел произведен первым спортсменом = {(1/3 * 0.8) / A :.3f}')"
   ]
  },
  {
   "cell_type": "code",
   "execution_count": 13,
   "id": "f3ea40d1",
   "metadata": {},
   "outputs": [
    {
     "name": "stdout",
     "output_type": "stream",
     "text": [
      "Вероятность того, что выстрел произведен первым спортсменом = 0.261\n"
     ]
    }
   ],
   "source": [
    "print(f'Вероятность того, что выстрел произведен первым спортсменом = {(1/3 * 0.6) / A :.3f}')"
   ]
  },
  {
   "cell_type": "markdown",
   "id": "258974bc",
   "metadata": {},
   "source": [
    "4. В университет на факультеты A и B поступило равное количество студентов, а на факультет C студентов поступило столько же, сколько на A и B вместе. Вероятность того, что студент факультета A сдаст первую сессию, равна 0.8. Для студента факультета B эта вероятность равна 0.7, а для студента факультета C - 0.9. Студент сдал первую сессию. Какова вероятность, что он учится: a). на факультете A б). на факультете B в). на факультете C?"
   ]
  },
  {
   "cell_type": "code",
   "execution_count": 14,
   "id": "c6cee0c0",
   "metadata": {},
   "outputs": [
    {
     "data": {
      "text/plain": [
       "0.825"
      ]
     },
     "execution_count": 14,
     "metadata": {},
     "output_type": "execute_result"
    }
   ],
   "source": [
    "A = 1/4 * 0.8 + 1/4 * 0.7 + 1/2 * 0.9\n",
    "A"
   ]
  },
  {
   "cell_type": "code",
   "execution_count": 15,
   "id": "aacb9776",
   "metadata": {},
   "outputs": [
    {
     "name": "stdout",
     "output_type": "stream",
     "text": [
      "Вероятность того, что  студент учится на факультете A = 0.242\n"
     ]
    }
   ],
   "source": [
    "print(f'Вероятность того, что  студент учится на факультете A = {(1/4 * 0.8) / A :.3f}')"
   ]
  },
  {
   "cell_type": "code",
   "execution_count": 16,
   "id": "f06c119a",
   "metadata": {},
   "outputs": [
    {
     "name": "stdout",
     "output_type": "stream",
     "text": [
      "Вероятность того, что  студент учится на факультете B = 0.212\n"
     ]
    }
   ],
   "source": [
    "print(f'Вероятность того, что  студент учится на факультете B = {(1/4 * 0.7) / A :.3f}')"
   ]
  },
  {
   "cell_type": "code",
   "execution_count": 17,
   "id": "fc058160",
   "metadata": {},
   "outputs": [
    {
     "name": "stdout",
     "output_type": "stream",
     "text": [
      "Вероятность того, что  студент учится на факультете C = 0.545\n"
     ]
    }
   ],
   "source": [
    "print(f'Вероятность того, что  студент учится на факультете C = {(1/2 * 0.9) / A :.3f}')"
   ]
  },
  {
   "cell_type": "markdown",
   "id": "88948c0d",
   "metadata": {},
   "source": [
    "5. Устройство состоит из трех деталей. Для первой детали вероятность выйти из строя в первый месяц равна 0.1, для второй - 0.2, для третьей - 0.25. Какова вероятность того, что в первый месяц выйдут из строя: а). все детали б). только две детали в). хотя бы одна деталь г). от одной до двух деталей?"
   ]
  },
  {
   "cell_type": "code",
   "execution_count": 19,
   "id": "dd6987b7",
   "metadata": {},
   "outputs": [],
   "source": [
    "A1 = 0.1\n",
    "A2 = 0.2\n",
    "A3 = 0.25"
   ]
  },
  {
   "cell_type": "code",
   "execution_count": 20,
   "id": "1e3239c8",
   "metadata": {},
   "outputs": [
    {
     "name": "stdout",
     "output_type": "stream",
     "text": [
      "Вероятность того, что в первый месяц выйдут из строя все детали = 0.005\n"
     ]
    }
   ],
   "source": [
    "print(f'Вероятность того, что в первый месяц выйдут из строя все детали = {A1*A2*A3 :.3f}')"
   ]
  },
  {
   "cell_type": "code",
   "execution_count": null,
   "id": "ced43c25",
   "metadata": {},
   "outputs": [],
   "source": []
  }
 ],
 "metadata": {
  "kernelspec": {
   "display_name": "Python 3 (ipykernel)",
   "language": "python",
   "name": "python3"
  },
  "language_info": {
   "codemirror_mode": {
    "name": "ipython",
    "version": 3
   },
   "file_extension": ".py",
   "mimetype": "text/x-python",
   "name": "python",
   "nbconvert_exporter": "python",
   "pygments_lexer": "ipython3",
   "version": "3.8.12"
  }
 },
 "nbformat": 4,
 "nbformat_minor": 5
}
