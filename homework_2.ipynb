{
 "cells": [
  {
   "cell_type": "markdown",
   "id": "c4c3a9f0",
   "metadata": {},
   "source": [
    "1. Вероятность того, что стрелок попадет в мишень, выстрелив один раз, равна 0.8. Стрелок выстрелил 100 раз. Найдите вероятность того, что стрелок попадет в цель ровно 85 раз."
   ]
  },
  {
   "cell_type": "code",
   "execution_count": 15,
   "id": "7617f9a8",
   "metadata": {},
   "outputs": [],
   "source": [
    "import numpy as np\n",
    "from math import factorial\n",
    "def combinations(n, k):\n",
    "    return int(factorial(n) / (factorial(k) * factorial(n - k)))\n",
    "def bern(p, n, k):\n",
    "    return combinations(n,k) * p**(k) * (1 - p)**(n - k)\n",
    "def puas(l,m):\n",
    "    return l**m/factorial(m)*np.exp(-l)"
   ]
  },
  {
   "cell_type": "code",
   "execution_count": 32,
   "id": "4dcb94a8",
   "metadata": {},
   "outputs": [
    {
     "name": "stdout",
     "output_type": "stream",
     "text": [
      "Вероятность того, что стрелок попадет в цель ровно 85 раз = 0.048\n"
     ]
    }
   ],
   "source": [
    "P = bern(0.8, 100, 85)\n",
    "print(f'Вероятность того, что стрелок попадет в цель ровно 85 раз = {P :.3f}')"
   ]
  },
  {
   "cell_type": "markdown",
   "id": "9112a997",
   "metadata": {},
   "source": [
    "2. Вероятность того, что лампочка перегорит в течение первого дня эксплуатации, равна 0.0004. В жилом комплексе после ремонта в один день включили 5000 новых лампочек. Какова вероятность, что ни одна из них не перегорит в первый день? Какова вероятность, что перегорят ровно две?"
   ]
  },
  {
   "cell_type": "code",
   "execution_count": 17,
   "id": "bfe800ff",
   "metadata": {},
   "outputs": [],
   "source": [
    "n = 5000\n",
    "p = 0.0004\n",
    "lmbd = n*p"
   ]
  },
  {
   "cell_type": "code",
   "execution_count": 33,
   "id": "1c2c1b30",
   "metadata": {},
   "outputs": [
    {
     "name": "stdout",
     "output_type": "stream",
     "text": [
      "Вероятность того, что ни одна из них не перегорит в первый день = 0.135\n"
     ]
    }
   ],
   "source": [
    "P = puas(lmbd, 0)\n",
    "print(f'Вероятность того, что ни одна из них не перегорит в первый день = {P :.3f}')"
   ]
  },
  {
   "cell_type": "code",
   "execution_count": 34,
   "id": "71409345",
   "metadata": {},
   "outputs": [
    {
     "name": "stdout",
     "output_type": "stream",
     "text": [
      "Вероятность того, что перегорят ровно две = 0.271\n"
     ]
    }
   ],
   "source": [
    "P = puas(lmbd, 2)\n",
    "print(f'Вероятность того, что перегорят ровно две = {P :.3f}')"
   ]
  },
  {
   "cell_type": "markdown",
   "id": "791e9604",
   "metadata": {},
   "source": [
    "3. Монету подбросили 144 раза. Какова вероятность, что орел выпадет ровно 70 раз?"
   ]
  },
  {
   "cell_type": "code",
   "execution_count": 35,
   "id": "810fc7e2",
   "metadata": {},
   "outputs": [
    {
     "name": "stdout",
     "output_type": "stream",
     "text": [
      "Вероятность того, что орел выпадет ровно 70 раз = 0.063\n"
     ]
    }
   ],
   "source": [
    "P = bern(0.5, 144, 70)\n",
    "print(f'Вероятность того, что орел выпадет ровно 70 раз = {P :.3f}')"
   ]
  },
  {
   "cell_type": "markdown",
   "id": "86094028",
   "metadata": {},
   "source": [
    "4. В первом ящике находится 10 мячей, из которых 7 - белые. Во втором ящике - 11 мячей, из которых 9 белых. Из каждого ящика вытаскивают случайным образом по два мяча. Какова вероятность того, что все мячи белые? Какова вероятность того, что ровно два мяча белые? Какова вероятность того, что хотя бы один мяч белый?"
   ]
  },
  {
   "cell_type": "code",
   "execution_count": 31,
   "id": "586238dc",
   "metadata": {},
   "outputs": [
    {
     "name": "stdout",
     "output_type": "stream",
     "text": [
      "Вероятность того, что все мячи белые = 0.305\n"
     ]
    }
   ],
   "source": [
    "P1 = 7/10 * 6/9\n",
    "P2 = 9/11 * 8/10\n",
    "\n",
    "P = P1 * P2\n",
    "print(f'Вероятность того, что все мячи белые = {P :.3f}')"
   ]
  },
  {
   "cell_type": "code",
   "execution_count": 44,
   "id": "4791a16b",
   "metadata": {},
   "outputs": [
    {
     "name": "stdout",
     "output_type": "stream",
     "text": [
      "Вероятность того, что ровно два мяча белые = 0.205\n"
     ]
    }
   ],
   "source": [
    "P1 = combinations(7, 2)/combinations(10, 2) * combinations(2, 2)/combinations(11, 2)\n",
    "P2 = combinations(3, 2)/combinations(10, 2) * combinations(9, 2)/combinations(11, 2)\n",
    "P3 = combinations(7, 1) * combinations(3, 1)/combinations(10, 2) * combinations(9, 1)* combinations(2, 1)/combinations(11, 2)\n",
    "\n",
    "P = P1 + P2 + P3\n",
    "print(f'Вероятность того, что ровно два мяча белые = {P :.3f}')"
   ]
  },
  {
   "cell_type": "code",
   "execution_count": 48,
   "id": "9d8bf0b4",
   "metadata": {},
   "outputs": [
    {
     "name": "stdout",
     "output_type": "stream",
     "text": [
      "0.0012121212121212121\n",
      "0.8181818181818182\n",
      "Вероятность того, что хотя бы один мяч белый = 0.999\n"
     ]
    }
   ],
   "source": [
    "P1 = 3/10 * 2/9 * 2/11 * 1/10\n",
    "\n",
    "P = 1 - P1\n",
    "print(f'Вероятность того, что хотя бы один мяч белый = {P :.3f}')"
   ]
  },
  {
   "cell_type": "code",
   "execution_count": null,
   "id": "5fa02d7c",
   "metadata": {},
   "outputs": [],
   "source": []
  }
 ],
 "metadata": {
  "kernelspec": {
   "display_name": "Python 3 (ipykernel)",
   "language": "python",
   "name": "python3"
  },
  "language_info": {
   "codemirror_mode": {
    "name": "ipython",
    "version": 3
   },
   "file_extension": ".py",
   "mimetype": "text/x-python",
   "name": "python",
   "nbconvert_exporter": "python",
   "pygments_lexer": "ipython3",
   "version": "3.8.12"
  }
 },
 "nbformat": 4,
 "nbformat_minor": 5
}
