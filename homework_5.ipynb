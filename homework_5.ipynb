{
 "cells": [
  {
   "cell_type": "markdown",
   "id": "e9736c41",
   "metadata": {},
   "source": [
    "1. Известно, что генеральная совокупность распределена нормально со средним квадратическим отклонением, равным 16.\n",
    "Найти доверительный интервал для оценки математического ожидания a с надежностью 0.95, если выборочная средняя M = 80, а объем выборки n = 256."
   ]
  },
  {
   "cell_type": "code",
   "execution_count": 29,
   "id": "7d23cbcf",
   "metadata": {},
   "outputs": [],
   "source": [
    "import numpy as np\n",
    "import pandas as pd\n",
    "from scipy import stats\n",
    "import math"
   ]
  },
  {
   "cell_type": "code",
   "execution_count": 8,
   "id": "68c07191",
   "metadata": {},
   "outputs": [],
   "source": [
    "# Объем выборки из генеральной совокупности \n",
    "n = 256"
   ]
  },
  {
   "cell_type": "code",
   "execution_count": 9,
   "id": "4479aff5",
   "metadata": {},
   "outputs": [],
   "source": [
    "# Средне квадратическое отклонение генеральной совокупности \n",
    "s = 16"
   ]
  },
  {
   "cell_type": "code",
   "execution_count": 10,
   "id": "531a7e3f",
   "metadata": {},
   "outputs": [],
   "source": [
    "# Выборочное среднее \n",
    "M = 80"
   ]
  },
  {
   "cell_type": "code",
   "execution_count": 11,
   "id": "64161929",
   "metadata": {},
   "outputs": [],
   "source": [
    "t_obj = stats.t(256 - 1)"
   ]
  },
  {
   "cell_type": "code",
   "execution_count": 12,
   "id": "375e1f37",
   "metadata": {},
   "outputs": [
    {
     "data": {
      "text/plain": [
       "1.9693105698491928"
      ]
     },
     "execution_count": 12,
     "metadata": {},
     "output_type": "execute_result"
    }
   ],
   "source": [
    "t = t_obj.ppf(1 - 0.05 / 2)\n",
    "t"
   ]
  },
  {
   "cell_type": "code",
   "execution_count": 13,
   "id": "4934e854",
   "metadata": {},
   "outputs": [
    {
     "data": {
      "text/plain": [
       "(78.0306894301508, 81.9693105698492)"
      ]
     },
     "execution_count": 13,
     "metadata": {},
     "output_type": "execute_result"
    }
   ],
   "source": [
    "# Доверительный интервал    \n",
    "(M - t * s / np.sqrt(n), M + t * s / np.sqrt(n))"
   ]
  },
  {
   "cell_type": "markdown",
   "id": "e6d26904",
   "metadata": {},
   "source": [
    "2. В результате 10 независимых измерений некоторой величины X, выполненных с одинаковой точностью, получены опытные данные:6.9, 6.1, 6.2, 6.8, 7.5, 6.3, 6.4, 6.9, 6.7, 6.1\n",
    "Предполагая, что результаты измерений подчинены нормальному закону распределения вероятностей, оценить истинное значение величины X при помощи доверительного интервала, покрывающего это значение с доверительной вероятностью 0,95."
   ]
  },
  {
   "cell_type": "code",
   "execution_count": 15,
   "id": "83ee0343",
   "metadata": {},
   "outputs": [],
   "source": [
    "X = np.array([6.9, 6.1, 6.2, 6.8, 7.5, 6.3, 6.4, 6.9, 6.7, 6.1])"
   ]
  },
  {
   "cell_type": "code",
   "execution_count": 19,
   "id": "4b7496bf",
   "metadata": {},
   "outputs": [
    {
     "data": {
      "text/plain": [
       "6.590000000000001"
      ]
     },
     "execution_count": 19,
     "metadata": {},
     "output_type": "execute_result"
    }
   ],
   "source": [
    "X_mean = X.mean()\n",
    "X_mean"
   ]
  },
  {
   "cell_type": "code",
   "execution_count": 38,
   "id": "ad8fc060",
   "metadata": {},
   "outputs": [
    {
     "data": {
      "text/plain": [
       "0.2032222222222223"
      ]
     },
     "execution_count": 38,
     "metadata": {},
     "output_type": "execute_result"
    }
   ],
   "source": [
    "variance = np.var(X, ddof=1)\n",
    "variance# несмещенная дисперсия"
   ]
  },
  {
   "cell_type": "code",
   "execution_count": 39,
   "id": "709dca30",
   "metadata": {},
   "outputs": [
    {
     "data": {
      "text/plain": [
       "0.4508017549014448"
      ]
     },
     "execution_count": 39,
     "metadata": {},
     "output_type": "execute_result"
    }
   ],
   "source": [
    "s = variance **0.5\n",
    "s"
   ]
  },
  {
   "cell_type": "code",
   "execution_count": 40,
   "id": "9044c4fd",
   "metadata": {},
   "outputs": [
    {
     "data": {
      "text/plain": [
       "2.2621571627409915"
      ]
     },
     "execution_count": 40,
     "metadata": {},
     "output_type": "execute_result"
    }
   ],
   "source": [
    "t_obj = stats.t(10 - 1)\n",
    "t = t_obj.ppf(1 - 0.05 / 2)\n",
    "t"
   ]
  },
  {
   "cell_type": "code",
   "execution_count": 41,
   "id": "ce2d1501",
   "metadata": {},
   "outputs": [
    {
     "data": {
      "text/plain": [
       "(6.267515851415713, 6.912484148584288)"
      ]
     },
     "execution_count": 41,
     "metadata": {},
     "output_type": "execute_result"
    }
   ],
   "source": [
    "T_1 = X_mean - s*t/math.sqrt(10)\n",
    "T_2 = X_mean + s*t/math.sqrt(10)\n",
    "T_1, T_2 # Доверительный интервал"
   ]
  },
  {
   "cell_type": "markdown",
   "id": "eeb343f5",
   "metadata": {},
   "source": [
    "3. Проведите тест гипотезы. Утверждается, что шарики для подшипников, изготовленные автоматическим станком, имеют средний диаметр 17 мм.\n",
    "Используя односторонний критерий с α=0,05, проверить эту гипотезу, если в выборке из n=100 шариков средний диаметр\n",
    "оказался равным 17.5 мм, а дисперсия известна и равна 4 кв. мм."
   ]
  },
  {
   "cell_type": "markdown",
   "id": "4ea46e4e",
   "metadata": {},
   "source": [
    "Нулевая гипотеза: $Н_0$ µ = 17 . Альтернативная гипотеза $Н_1$ : µ  > 17 (односторонний тест)"
   ]
  },
  {
   "cell_type": "code",
   "execution_count": 35,
   "id": "e2702483",
   "metadata": {},
   "outputs": [
    {
     "data": {
      "text/plain": [
       "2.5"
      ]
     },
     "execution_count": 35,
     "metadata": {},
     "output_type": "execute_result"
    }
   ],
   "source": [
    "Z = (17.5 -17) * 10 / 2 \n",
    "Z # наблюдаемое значение критерия"
   ]
  },
  {
   "cell_type": "code",
   "execution_count": 36,
   "id": "abf49942",
   "metadata": {},
   "outputs": [],
   "source": [
    "Z_t = 1.645 # табличное значение для 0,95 "
   ]
  },
  {
   "cell_type": "markdown",
   "id": "6895f8fa",
   "metadata": {},
   "source": [
    "Ответ: так как Z > Z_t, то альтернативная гипотеза на уровне значимости α = 0,05 верна."
   ]
  },
  {
   "cell_type": "markdown",
   "id": "78af995c",
   "metadata": {},
   "source": [
    "4. Продавец утверждает, что средний вес пачки печенья составляет 200 г. Из партии извлечена выборка из 10 пачек. Вес каждой пачки составляет: 202, 203, 199, 197, 195, 201, 200, 204, 194, 190. Известно, что их веса распределены нормально.\n",
    "Верно ли утверждение продавца, если учитывать, что доверительная вероятность равна 99%?"
   ]
  },
  {
   "cell_type": "markdown",
   "id": "7d95cda8",
   "metadata": {},
   "source": [
    "Нулевая гипотеза: $Н_0$ µ = 200 . Альтернативная гипотеза $Н_1$ : µ  != 200 (двухсторонний тест)"
   ]
  },
  {
   "cell_type": "code",
   "execution_count": 45,
   "id": "61e114b7",
   "metadata": {},
   "outputs": [],
   "source": [
    "X = np.array([202, 203, 199, 197, 195, 201, 200, 204, 194, 190])"
   ]
  },
  {
   "cell_type": "code",
   "execution_count": 46,
   "id": "2e45de6a",
   "metadata": {
    "scrolled": true
   },
   "outputs": [
    {
     "data": {
      "text/plain": [
       "198.5"
      ]
     },
     "execution_count": 46,
     "metadata": {},
     "output_type": "execute_result"
    }
   ],
   "source": [
    "X_mean = X.mean()\n",
    "X_mean "
   ]
  },
  {
   "cell_type": "code",
   "execution_count": 47,
   "id": "b58091a2",
   "metadata": {},
   "outputs": [
    {
     "data": {
      "text/plain": [
       "19.833333333333332"
      ]
     },
     "execution_count": 47,
     "metadata": {},
     "output_type": "execute_result"
    }
   ],
   "source": [
    "variance = np.var(X, ddof=1)\n",
    "variance # несмещенная дисперсия"
   ]
  },
  {
   "cell_type": "code",
   "execution_count": 48,
   "id": "ee732624",
   "metadata": {},
   "outputs": [
    {
     "data": {
      "text/plain": [
       "4.453463071962462"
      ]
     },
     "execution_count": 48,
     "metadata": {},
     "output_type": "execute_result"
    }
   ],
   "source": [
    "s = variance **0.5\n",
    "s"
   ]
  },
  {
   "cell_type": "code",
   "execution_count": 51,
   "id": "600fd2d3",
   "metadata": {},
   "outputs": [
    {
     "data": {
      "text/plain": [
       "-1.0652181653385513"
      ]
     },
     "execution_count": 51,
     "metadata": {},
     "output_type": "execute_result"
    }
   ],
   "source": [
    "T = (198.5-200) * (10)**0.5 / 4.453 \n",
    "T # наблюдаемое значение критерия Стьюдента"
   ]
  },
  {
   "cell_type": "markdown",
   "id": "82f084b1",
   "metadata": {},
   "source": [
    "Уровень значимости α = 0,01. Табличный критерий Стьюдента для α/2 = 3.25. Таким образом интервал [-3.25, 3.25]"
   ]
  },
  {
   "cell_type": "markdown",
   "id": "6af732e8",
   "metadata": {},
   "source": [
    "Ответ: наблюдаемое значение критерия Стьюдента находится в интервале [-3.25, 3.25], поэтому мы не можем отвергуть нулевую гипотезу при уровне значимости α = 0,01."
   ]
  },
  {
   "cell_type": "code",
   "execution_count": null,
   "id": "704ba9c1",
   "metadata": {},
   "outputs": [],
   "source": []
  }
 ],
 "metadata": {
  "kernelspec": {
   "display_name": "Python 3 (ipykernel)",
   "language": "python",
   "name": "python3"
  },
  "language_info": {
   "codemirror_mode": {
    "name": "ipython",
    "version": 3
   },
   "file_extension": ".py",
   "mimetype": "text/x-python",
   "name": "python",
   "nbconvert_exporter": "python",
   "pygments_lexer": "ipython3",
   "version": "3.8.12"
  }
 },
 "nbformat": 4,
 "nbformat_minor": 5
}
